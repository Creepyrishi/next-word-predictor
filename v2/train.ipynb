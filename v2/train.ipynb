{
  "cells": [
    {
      "cell_type": "code",
      "execution_count": 34,
      "id": "5375dbed-bace-4120-a9c2-88331512a192",
      "metadata": {
        "id": "5375dbed-bace-4120-a9c2-88331512a192"
      },
      "outputs": [],
      "source": [
        "import re\n",
        "import torch\n",
        "import torch.nn.functional as F\n",
        "from torch.utils.data import Dataset, DataLoader\n",
        "import torch.nn as nn\n",
        "from torch.optim import Adam\n",
        "import numpy as np\n",
        "import json\n",
        "import matplotlib.pyplot as plt\n",
        "from nltk.tokenize import word_tokenize\n",
        "import nltk"
      ]
    },
    {
      "cell_type": "code",
      "source": [
        "try:\n",
        "    nltk.data.find('tokenizers/punkt_tab')\n",
        "except LookupError:\n",
        "    nltk.download('punkt_tab')"
      ],
      "metadata": {
        "id": "9HtMo26t5yfr"
      },
      "id": "9HtMo26t5yfr",
      "execution_count": 35,
      "outputs": []
    },
    {
      "cell_type": "code",
      "execution_count": 36,
      "id": "e96b789f-0fa9-4c8f-93b4-1d9076732a87",
      "metadata": {
        "id": "e96b789f-0fa9-4c8f-93b4-1d9076732a87"
      },
      "outputs": [],
      "source": [
        "def chunk_sentence(sentence, max_words=15):\n",
        "    words = sentence.split()\n",
        "    chunks = []\n",
        "    for i in range(0, len(words), max_words):\n",
        "        chunk = words[i:i+max_words]\n",
        "        chunks.append(' '.join(chunk))\n",
        "    return chunks"
      ]
    },
    {
      "cell_type": "code",
      "execution_count": 37,
      "id": "1958125f-9056-4cdd-91c3-255e2cac5038",
      "metadata": {
        "colab": {
          "base_uri": "https://localhost:8080/"
        },
        "id": "1958125f-9056-4cdd-91c3-255e2cac5038",
        "outputId": "6854d96b-1bb3-4bba-b5ca-4ff5cb4b37f3"
      },
      "outputs": [
        {
          "output_type": "execute_result",
          "data": {
            "text/plain": [
              "['  Everything was in confusion in the Oblonskys’ house',\n",
              " ' The wife had discovered that the husband was carrying on an intrigue with a French girl, who had been a governess in their family, and she had announced to her husband that she could not go on living in the same house with him']"
            ]
          },
          "metadata": {},
          "execution_count": 37
        }
      ],
      "source": [
        "bk1 = open('book1.txt', 'r', encoding='utf-8').read().replace('\\n', ' ').split('.')\n",
        "bk1[1:3]"
      ]
    },
    {
      "cell_type": "code",
      "execution_count": 38,
      "id": "5461300b-2e5e-44b5-96e5-895d4ebd942f",
      "metadata": {
        "colab": {
          "base_uri": "https://localhost:8080/"
        },
        "id": "5461300b-2e5e-44b5-96e5-895d4ebd942f",
        "outputId": "11868475-2c20-4684-e7af-523de54b5239"
      },
      "outputs": [
        {
          "output_type": "execute_result",
          "data": {
            "text/plain": [
              "[' It stands in the centre of a small bay, and upon a gentle acclivity, which, on one side, slopes towards the sea, and on the other rises into an eminence crowned by dark woods',\n",
              " ' The situation is admirably beautiful and picturesque, and the ruins have an air of ancient grandeur, which, contrasted with the present solitude of the scene, impresses the traveller with awe and curiosity']"
            ]
          },
          "metadata": {},
          "execution_count": 38
        }
      ],
      "source": [
        "bk2 = open('book2.txt', 'r', encoding='utf-8').read().replace('\\n', ' ').split('.')\n",
        "bk2[1:3]"
      ]
    },
    {
      "cell_type": "code",
      "execution_count": 39,
      "id": "b9a0ab04-5ee3-4523-ac95-59ad984f6bff",
      "metadata": {
        "id": "b9a0ab04-5ee3-4523-ac95-59ad984f6bff"
      },
      "outputs": [],
      "source": [
        "raw_sentences = bk1 + bk2\n",
        "sentences = []\n",
        "max_words = 30\n",
        "for sentence in raw_sentences:\n",
        "    chunks = chunk_sentence(sentence, max_words=max_words)\n",
        "    for c in chunks:\n",
        "        if len(c) > 2:\n",
        "            sentences.append(c)"
      ]
    },
    {
      "cell_type": "code",
      "execution_count": 40,
      "id": "184e4ea6-8b62-461a-8cbc-39729098967b",
      "metadata": {
        "colab": {
          "base_uri": "https://localhost:8080/"
        },
        "id": "184e4ea6-8b62-461a-8cbc-39729098967b",
        "outputId": "e118cc5a-9354-44ab-ec89-80c5bb1dd51b"
      },
      "outputs": [
        {
          "output_type": "execute_result",
          "data": {
            "text/plain": [
              "['PART ONE Chapter 1 Happy families are all alike; every unhappy family is unhappy in its own way',\n",
              " 'Everything was in confusion in the Oblonskys’ house']"
            ]
          },
          "metadata": {},
          "execution_count": 40
        }
      ],
      "source": [
        "sentences[:2]"
      ]
    },
    {
      "cell_type": "code",
      "execution_count": 41,
      "id": "b5fe20e8-2e63-4664-9ee7-04013233bc27",
      "metadata": {
        "colab": {
          "base_uri": "https://localhost:8080/"
        },
        "id": "b5fe20e8-2e63-4664-9ee7-04013233bc27",
        "outputId": "254f4cd1-0de8-4cde-e8da-44db8b070b60"
      },
      "outputs": [
        {
          "output_type": "execute_result",
          "data": {
            "text/plain": [
              "10627"
            ]
          },
          "metadata": {},
          "execution_count": 41
        }
      ],
      "source": [
        "len(sentences)"
      ]
    },
    {
      "cell_type": "code",
      "execution_count": 42,
      "id": "6f649a9d-f217-4365-aa6c-70273e2b0af5",
      "metadata": {
        "id": "6f649a9d-f217-4365-aa6c-70273e2b0af5"
      },
      "outputs": [],
      "source": [
        "def clean_text(text):\n",
        "    text = text.lower()\n",
        "    # Add spaces around punctuation\n",
        "    text = re.sub(r'([^\\w\\s])', r' \\1 ', text)\n",
        "    # Remove punctuation\n",
        "    text = re.sub(r'[^\\w\\s]', ' ', text)\n",
        "    # Normalize spaces\n",
        "    text = re.sub(r'\\s+', ' ', text)\n",
        "    return text.strip()\n",
        "\n",
        "\n",
        "def get_only_words(text):\n",
        "    tokens = word_tokenize(text)\n",
        "    words = [token for token in tokens if token.isalpha()]\n",
        "    return words"
      ]
    },
    {
      "cell_type": "code",
      "execution_count": 43,
      "id": "09996266-1a29-4486-a1e9-cf2b705b775e",
      "metadata": {
        "colab": {
          "base_uri": "https://localhost:8080/"
        },
        "id": "09996266-1a29-4486-a1e9-cf2b705b775e",
        "outputId": "80717612-3fba-47ab-d013-6a36c46b7795"
      },
      "outputs": [
        {
          "output_type": "execute_result",
          "data": {
            "text/plain": [
              "10627"
            ]
          },
          "metadata": {},
          "execution_count": 43
        }
      ],
      "source": [
        "sentences = [clean_text(txt) for txt in sentences]\n",
        "len(sentences)"
      ]
    },
    {
      "cell_type": "code",
      "execution_count": 44,
      "id": "a221ad99-b4c7-4c8d-937b-484646efd173",
      "metadata": {
        "colab": {
          "base_uri": "https://localhost:8080/"
        },
        "id": "a221ad99-b4c7-4c8d-937b-484646efd173",
        "outputId": "a94428d4-cb43-4d5d-e3a4-8c88ad3cd14a"
      },
      "outputs": [
        {
          "output_type": "execute_result",
          "data": {
            "text/plain": [
              "['everything was in confusion in the oblonskys house',\n",
              " 'the wife had discovered that the husband was carrying on an intrigue with a french girl who had been a governess in their family and she had announced to her']"
            ]
          },
          "metadata": {},
          "execution_count": 44
        }
      ],
      "source": [
        "sentences[1:3]"
      ]
    },
    {
      "cell_type": "code",
      "execution_count": 45,
      "id": "d446a75a-c8fd-4d5e-ba0c-a98029192cc6",
      "metadata": {
        "colab": {
          "base_uri": "https://localhost:8080/"
        },
        "id": "d446a75a-c8fd-4d5e-ba0c-a98029192cc6",
        "outputId": "db5479d5-5a60-4ba6-cd9e-4c4ef2cd62c4"
      },
      "outputs": [
        {
          "output_type": "execute_result",
          "data": {
            "text/plain": [
              "['expansive', 'heavens', 'gliding']"
            ]
          },
          "metadata": {},
          "execution_count": 45
        }
      ],
      "source": [
        "word_list1 = set(get_only_words(\"\".join(bk2)))\n",
        "word_list2 = set(get_only_words(\"\".join(bk1)))\n",
        "all_word_list = list(word_list1) + list(word_list2)\n",
        "all_word_list[:3]"
      ]
    },
    {
      "cell_type": "code",
      "execution_count": 46,
      "id": "a2ca5d50-2e7a-4936-8761-1c4562677003",
      "metadata": {
        "id": "a2ca5d50-2e7a-4936-8761-1c4562677003"
      },
      "outputs": [],
      "source": [
        "w_to_i = {word:i+2 for i, word in enumerate(set(all_word_list))}\n",
        "w_to_i['<UNK>'] = 1\n",
        "i_to_w = {v:k for k, v in w_to_i.items()}\n",
        "with open('vocab.json', 'w') as fp:\n",
        "    json.dump(w_to_i, fp)"
      ]
    },
    {
      "cell_type": "code",
      "execution_count": 47,
      "id": "a2826a64-2ee3-4347-8e86-f4d39febfb6f",
      "metadata": {
        "colab": {
          "base_uri": "https://localhost:8080/"
        },
        "id": "a2826a64-2ee3-4347-8e86-f4d39febfb6f",
        "outputId": "d151b679-bc57-4c43-a47e-cd7065f0ac04"
      },
      "outputs": [
        {
          "output_type": "execute_result",
          "data": {
            "text/plain": [
              "11130"
            ]
          },
          "metadata": {},
          "execution_count": 47
        }
      ],
      "source": [
        "vocab_size = len(set(w_to_i.values())) +1 #+1 for padding \"0\"\n",
        "vocab_size"
      ]
    },
    {
      "cell_type": "code",
      "execution_count": 48,
      "id": "8df1ff37-58d9-4b96-b5e7-91658ac80aba",
      "metadata": {
        "id": "8df1ff37-58d9-4b96-b5e7-91658ac80aba"
      },
      "outputs": [],
      "source": [
        "def sentence_to_int(sentence):\n",
        "    sentence_to_int = []\n",
        "    for word in sentence.split(\" \"):\n",
        "        int_word = w_to_i.get(word, w_to_i.get('<UNK>'))\n",
        "        sentence_to_int.append(int_word)\n",
        "    return sentence_to_int"
      ]
    },
    {
      "cell_type": "code",
      "execution_count": 49,
      "id": "3354e2ce-2240-4228-90d9-d26b7a4f7b45",
      "metadata": {
        "colab": {
          "base_uri": "https://localhost:8080/"
        },
        "id": "3354e2ce-2240-4228-90d9-d26b7a4f7b45",
        "outputId": "68137a7f-b9b5-4271-d992-f3d9c4c7a12d"
      },
      "outputs": [
        {
          "output_type": "execute_result",
          "data": {
            "text/plain": [
              "[5709, 1391, 3323, 10201, 3323, 40, 1, 3005]"
            ]
          },
          "metadata": {},
          "execution_count": 49
        }
      ],
      "source": [
        "sentence_to_int('everything was in confusion in the oblonskys house')"
      ]
    },
    {
      "cell_type": "code",
      "execution_count": 50,
      "id": "b4663245-9f27-4273-a3ef-4b5ea2194885",
      "metadata": {
        "colab": {
          "base_uri": "https://localhost:8080/"
        },
        "id": "b4663245-9f27-4273-a3ef-4b5ea2194885",
        "outputId": "3e70750c-230d-4f74-ed71-582d3b40ac40"
      },
      "outputs": [
        {
          "output_type": "execute_result",
          "data": {
            "text/plain": [
              "[5709, 1391, 3323, 10201, 3323, 40, 1, 3005]"
            ]
          },
          "metadata": {},
          "execution_count": 50
        }
      ],
      "source": [
        "int_sentences = [sentence_to_int(sentence) for sentence in sentences]\n",
        "int_sentences[1]"
      ]
    },
    {
      "cell_type": "code",
      "execution_count": 51,
      "id": "8a32bb83-1e2e-4d05-b24c-b32bf2e2d0c8",
      "metadata": {
        "colab": {
          "base_uri": "https://localhost:8080/"
        },
        "id": "8a32bb83-1e2e-4d05-b24c-b32bf2e2d0c8",
        "outputId": "b24b1e98-0266-4170-cbf9-1b1396dfc202"
      },
      "outputs": [
        {
          "output_type": "execute_result",
          "data": {
            "text/plain": [
              "10627"
            ]
          },
          "metadata": {},
          "execution_count": 51
        }
      ],
      "source": [
        "len(int_sentences)"
      ]
    },
    {
      "cell_type": "code",
      "execution_count": 52,
      "id": "da2eb24b-cbf6-407b-906c-4dd1fc900fac",
      "metadata": {
        "colab": {
          "base_uri": "https://localhost:8080/"
        },
        "id": "da2eb24b-cbf6-407b-906c-4dd1fc900fac",
        "outputId": "cbcd9f5e-2617-48c3-ed65-97e6f66b4914"
      },
      "outputs": [
        {
          "output_type": "execute_result",
          "data": {
            "text/plain": [
              "36"
            ]
          },
          "metadata": {},
          "execution_count": 52
        }
      ],
      "source": [
        "max(len(x) for x in int_sentences)"
      ]
    },
    {
      "cell_type": "code",
      "execution_count": 53,
      "id": "22c3e0b2-8a74-4454-80ee-9d543d760acd",
      "metadata": {
        "id": "22c3e0b2-8a74-4454-80ee-9d543d760acd"
      },
      "outputs": [],
      "source": [
        "input_sq = []\n",
        "output_sq = []\n",
        "for sentence in int_sentences:\n",
        "    for i in range(1, len(sentence)):\n",
        "        temp = sentence[:i]\n",
        "        pad = ( max_words - len(temp), 0)\n",
        "        if temp != None:\n",
        "            try:\n",
        "                padded = F.pad(torch.tensor(temp), pad, value= 0)\n",
        "            except Exception as e:\n",
        "                print(e)\n",
        "                print(sentence)\n",
        "                print(temp)\n",
        "                break\n",
        "\n",
        "            input_sq.append(padded)\n",
        "            output_sq.append(sentence[i])"
      ]
    },
    {
      "cell_type": "code",
      "execution_count": 54,
      "id": "ade2c561-68cb-45cc-bc9d-69672e2d365b",
      "metadata": {
        "colab": {
          "base_uri": "https://localhost:8080/"
        },
        "id": "ade2c561-68cb-45cc-bc9d-69672e2d365b",
        "outputId": "1f503fa7-3ece-44e5-d105-321e45116277"
      },
      "outputs": [
        {
          "output_type": "execute_result",
          "data": {
            "text/plain": [
              "175640"
            ]
          },
          "metadata": {},
          "execution_count": 54
        }
      ],
      "source": [
        "len(input_sq)"
      ]
    },
    {
      "cell_type": "code",
      "execution_count": 55,
      "id": "58dea985-f452-4bc3-9db4-4c2f45600e52",
      "metadata": {
        "colab": {
          "base_uri": "https://localhost:8080/"
        },
        "id": "58dea985-f452-4bc3-9db4-4c2f45600e52",
        "outputId": "ca10df1e-7269-4205-a7c5-59f63dd62389"
      },
      "outputs": [
        {
          "output_type": "execute_result",
          "data": {
            "text/plain": [
              "175640"
            ]
          },
          "metadata": {},
          "execution_count": 55
        }
      ],
      "source": [
        "len(output_sq)"
      ]
    },
    {
      "cell_type": "code",
      "execution_count": 56,
      "id": "ff6bec55-12f2-40c9-a11a-b8f2ed464069",
      "metadata": {
        "id": "ff6bec55-12f2-40c9-a11a-b8f2ed464069"
      },
      "outputs": [],
      "source": [
        "class mydata(Dataset):\n",
        "    def __init__(self, x, y):\n",
        "        super().__init__()\n",
        "        self.x = x\n",
        "        self.y = y\n",
        "    def __len__(self):\n",
        "        return len(self.y)\n",
        "\n",
        "    def __getitem__(self, idx):\n",
        "        return self.x[idx], self.y[idx]"
      ]
    },
    {
      "cell_type": "code",
      "execution_count": 57,
      "id": "7276f6db-9780-4ec7-b26e-a825417ced98",
      "metadata": {
        "id": "7276f6db-9780-4ec7-b26e-a825417ced98"
      },
      "outputs": [],
      "source": [
        "torch.manual_seed(10)\n",
        "data = mydata(input_sq, torch.tensor(output_sq))\n",
        "batched_data= DataLoader(data, 64, shuffle=True)"
      ]
    },
    {
      "cell_type": "code",
      "execution_count": 58,
      "id": "dac25db9-927d-4c1b-b613-ab1dfd6bcae4",
      "metadata": {
        "id": "dac25db9-927d-4c1b-b613-ab1dfd6bcae4"
      },
      "outputs": [],
      "source": [
        "class Model(nn.Module):\n",
        "    def __init__(self):\n",
        "        super().__init__()\n",
        "        self.emb = nn.Embedding(vocab_size, embedding_dim=100, padding_idx = 0)\n",
        "        self.do = nn.Dropout(.1)\n",
        "        self.lstm = nn.LSTM(input_size = 100, hidden_size=150, num_layers=2, batch_first = True)\n",
        "        self.layers = nn.Sequential(\n",
        "            nn.Linear(in_features=150, out_features=200),\n",
        "            nn.Dropout(.2),\n",
        "            nn.ReLU(),\n",
        "            nn.Linear(in_features=200, out_features=vocab_size)\n",
        "        )\n",
        "    def forward(self, x):\n",
        "        x = self.emb(x)\n",
        "        y = self.do(x)\n",
        "        h, c = self.lstm(x)\n",
        "        y = h[:, -1, :]\n",
        "        y = self.layers(y)\n",
        "\n",
        "        return y"
      ]
    },
    {
      "cell_type": "code",
      "execution_count": 59,
      "id": "6916c0c6-0734-4058-935e-70dd2d4fc0b3",
      "metadata": {
        "id": "6916c0c6-0734-4058-935e-70dd2d4fc0b3"
      },
      "outputs": [],
      "source": [
        "def train(model, epochs, optim, loss_fn, patient = 3):\n",
        "    model.train()\n",
        "    best_loss = float('inf')\n",
        "    epochs_loss = []\n",
        "    for epoch in range(epochs):\n",
        "        loss_ = []\n",
        "        for batch in batched_data:\n",
        "            x, y = batch\n",
        "            x, y  = (x).to(device), (y).to(device)\n",
        "            y_pred = model(x)\n",
        "\n",
        "            loss = loss_fn(y_pred, y)\n",
        "            loss.backward()\n",
        "            optim.step()\n",
        "            optim.zero_grad()\n",
        "\n",
        "            loss_.append(loss.item())\n",
        "\n",
        "        epoch_loss = np.mean(loss_)\n",
        "        epochs_loss.append(epoch_loss)\n",
        "        print(f\"Epochs: {epoch} | Loss: {epoch_loss:.4f}\")\n",
        "\n",
        "        if best_loss > epoch_loss:\n",
        "            best_loss = epoch_loss\n",
        "            counter = 0\n",
        "            torch.save(model.state_dict(), \"best_model.pt\")\n",
        "            print(f\"model saved with loss: {best_loss:.4f}\")\n",
        "        else:\n",
        "            counter += 1\n",
        "            if counter >= patient:\n",
        "                print(f\"Early stopping after {epoch} epochs without improvement\")\n",
        "                break\n",
        "\n",
        "    return epochs_loss"
      ]
    },
    {
      "cell_type": "code",
      "execution_count": 60,
      "id": "c8d013dc-0302-4696-9810-1a9ff1458b6d",
      "metadata": {
        "colab": {
          "base_uri": "https://localhost:8080/"
        },
        "id": "c8d013dc-0302-4696-9810-1a9ff1458b6d",
        "outputId": "332a0171-e709-41ec-9f9c-ef335774e18c"
      },
      "outputs": [
        {
          "output_type": "stream",
          "name": "stdout",
          "text": [
            "Epochs: 0 | Loss: 6.2443\n",
            "model saved with loss: 6.2443\n",
            "Epochs: 1 | Loss: 5.6353\n",
            "model saved with loss: 5.6353\n",
            "Epochs: 2 | Loss: 5.3369\n",
            "model saved with loss: 5.3369\n",
            "Epochs: 3 | Loss: 5.0986\n",
            "model saved with loss: 5.0986\n",
            "Epochs: 4 | Loss: 4.8898\n",
            "model saved with loss: 4.8898\n",
            "Epochs: 5 | Loss: 4.6986\n",
            "model saved with loss: 4.6986\n",
            "Epochs: 6 | Loss: 4.5147\n",
            "model saved with loss: 4.5147\n",
            "Epochs: 7 | Loss: 4.3484\n",
            "model saved with loss: 4.3484\n",
            "Epochs: 8 | Loss: 4.1852\n",
            "model saved with loss: 4.1852\n",
            "Epochs: 9 | Loss: 4.0329\n",
            "model saved with loss: 4.0329\n",
            "Epochs: 10 | Loss: 3.8946\n",
            "model saved with loss: 3.8946\n",
            "Epochs: 11 | Loss: 3.7569\n",
            "model saved with loss: 3.7569\n",
            "Epochs: 12 | Loss: 3.6347\n",
            "model saved with loss: 3.6347\n",
            "Epochs: 13 | Loss: 3.5197\n",
            "model saved with loss: 3.5197\n",
            "Epochs: 14 | Loss: 3.4057\n",
            "model saved with loss: 3.4057\n",
            "Epochs: 15 | Loss: 3.3033\n",
            "model saved with loss: 3.3033\n",
            "Epochs: 16 | Loss: 3.2095\n",
            "model saved with loss: 3.2095\n",
            "Epochs: 17 | Loss: 3.1142\n",
            "model saved with loss: 3.1142\n",
            "Epochs: 18 | Loss: 3.0353\n",
            "model saved with loss: 3.0353\n",
            "Epochs: 19 | Loss: 2.9603\n",
            "model saved with loss: 2.9603\n",
            "Epochs: 20 | Loss: 2.8865\n",
            "model saved with loss: 2.8865\n",
            "Epochs: 21 | Loss: 2.8204\n",
            "model saved with loss: 2.8204\n",
            "Epochs: 22 | Loss: 2.7593\n",
            "model saved with loss: 2.7593\n",
            "Epochs: 23 | Loss: 2.7032\n",
            "model saved with loss: 2.7032\n",
            "Epochs: 24 | Loss: 2.6506\n",
            "model saved with loss: 2.6506\n",
            "Epochs: 25 | Loss: 2.6031\n",
            "model saved with loss: 2.6031\n",
            "Epochs: 26 | Loss: 2.5584\n",
            "model saved with loss: 2.5584\n",
            "Epochs: 27 | Loss: 2.5163\n",
            "model saved with loss: 2.5163\n",
            "Epochs: 28 | Loss: 2.4763\n",
            "model saved with loss: 2.4763\n",
            "Epochs: 29 | Loss: 2.4391\n",
            "model saved with loss: 2.4391\n",
            "Epochs: 30 | Loss: 2.4021\n",
            "model saved with loss: 2.4021\n",
            "Epochs: 31 | Loss: 2.3671\n",
            "model saved with loss: 2.3671\n",
            "Epochs: 32 | Loss: 2.3424\n",
            "model saved with loss: 2.3424\n",
            "Epochs: 33 | Loss: 2.3105\n",
            "model saved with loss: 2.3105\n",
            "Epochs: 34 | Loss: 2.2835\n",
            "model saved with loss: 2.2835\n",
            "Epochs: 35 | Loss: 2.2539\n",
            "model saved with loss: 2.2539\n",
            "Epochs: 36 | Loss: 2.2338\n",
            "model saved with loss: 2.2338\n",
            "Epochs: 37 | Loss: 2.2114\n",
            "model saved with loss: 2.2114\n",
            "Epochs: 38 | Loss: 2.1900\n",
            "model saved with loss: 2.1900\n",
            "Epochs: 39 | Loss: 2.1701\n",
            "model saved with loss: 2.1701\n",
            "Epochs: 40 | Loss: 2.1487\n",
            "model saved with loss: 2.1487\n",
            "Epochs: 41 | Loss: 2.1311\n",
            "model saved with loss: 2.1311\n",
            "Epochs: 42 | Loss: 2.1120\n",
            "model saved with loss: 2.1120\n",
            "Epochs: 43 | Loss: 2.0894\n",
            "model saved with loss: 2.0894\n",
            "Epochs: 44 | Loss: 2.0761\n",
            "model saved with loss: 2.0761\n",
            "Epochs: 45 | Loss: 2.0598\n",
            "model saved with loss: 2.0598\n",
            "Epochs: 46 | Loss: 2.0510\n",
            "model saved with loss: 2.0510\n",
            "Epochs: 47 | Loss: 2.0279\n",
            "model saved with loss: 2.0279\n",
            "Epochs: 48 | Loss: 2.0120\n",
            "model saved with loss: 2.0120\n",
            "Epochs: 49 | Loss: 2.0133\n"
          ]
        }
      ],
      "source": [
        "device = torch.device('cuda' if torch.cuda.is_available() else 'cpu')\n",
        "model = (Model()).to(device)\n",
        "optim = Adam(model.parameters(), lr = 0.001)\n",
        "loss_fn = nn.CrossEntropyLoss(ignore_index=0) #ignoring padding\n",
        "loss = train(model, 20, optim, loss_fn)"
      ]
    },
    {
      "cell_type": "code",
      "execution_count": 61,
      "id": "7326ecd7-7464-49db-b6ec-3eb875b36390",
      "metadata": {
        "colab": {
          "base_uri": "https://localhost:8080/",
          "height": 472
        },
        "id": "7326ecd7-7464-49db-b6ec-3eb875b36390",
        "outputId": "8cda163d-563f-420d-a077-c57a4ef5b36d"
      },
      "outputs": [
        {
          "output_type": "display_data",
          "data": {
            "text/plain": [
              "<Figure size 640x480 with 1 Axes>"
            ],
            "image/png": "[encoded data removed]"
          },
          "metadata": {}
        }
      ],
      "source": [
        "plt.plot([i for i in range(len(loss))], loss)\n",
        "plt.title(\"loss Vs epoch\")\n",
        "plt.ylabel(\"Loss\")\n",
        "plt.xlabel(\"Epoch\")\n",
        "plt.show()"
      ]
    },
    {
      "cell_type": "code",
      "source": [
        "x = 'can I go'\n",
        "\n",
        "for j in range(20):\n",
        "  with torch.no_grad():\n",
        "    x_int = [w_to_i.get(i, 1) for i in x.lower().split()]\n",
        "    x_tensor = torch.tensor(x_int).to(device)\n",
        "    x_tensor = x_tensor.unsqueeze(0)\n",
        "    y = model(x_tensor)\n",
        "    y = i_to_w.get(torch.argmax(y).item())\n",
        "    x = x + ' ' + y\n",
        "    print(x)"
      ],
      "metadata": {
        "id": "haD-mkSwK3fU",
        "outputId": "0ee0db51-be8c-4195-ad08-3781c1966445",
        "colab": {
          "base_uri": "https://localhost:8080/"
        }
      },
      "id": "haD-mkSwK3fU",
      "execution_count": 94,
      "outputs": [
        {
          "output_type": "stream",
          "name": "stdout",
          "text": [
            "can I go to\n",
            "can I go to decorum\n",
            "can I go to decorum without\n",
            "can I go to decorum without deciding\n",
            "can I go to decorum without deciding all\n",
            "can I go to decorum without deciding all like\n",
            "can I go to decorum without deciding all like peace\n",
            "can I go to decorum without deciding all like peace and\n",
            "can I go to decorum without deciding all like peace and m\n",
            "can I go to decorum without deciding all like peace and m well\n",
            "can I go to decorum without deciding all like peace and m well that\n",
            "can I go to decorum without deciding all like peace and m well that s\n",
            "can I go to decorum without deciding all like peace and m well that s what\n",
            "can I go to decorum without deciding all like peace and m well that s what wicked\n",
            "can I go to decorum without deciding all like peace and m well that s what wicked tongues\n",
            "can I go to decorum without deciding all like peace and m well that s what wicked tongues do\n",
            "can I go to decorum without deciding all like peace and m well that s what wicked tongues do said\n",
            "can I go to decorum without deciding all like peace and m well that s what wicked tongues do said <UNK>\n",
            "can I go to decorum without deciding all like peace and m well that s what wicked tongues do said <UNK> fit\n",
            "can I go to decorum without deciding all like peace and m well that s what wicked tongues do said <UNK> fit to\n"
          ]
        }
      ]
    }
  ],
  "metadata": {
    "kernelspec": {
      "display_name": "Python 3",
      "name": "python3"
    },
    "language_info": {
      "codemirror_mode": {
        "name": "ipython",
        "version": 3
      },
      "file_extension": ".py",
      "mimetype": "text/x-python",
      "name": "python",
      "nbconvert_exporter": "python",
      "pygments_lexer": "ipython3",
      "version": "3.9.13"
    },
    "colab": {
      "provenance": [],
      "gpuType": "T4"
    },
    "accelerator": "GPU"
  },
  "nbformat": 4,
  "nbformat_minor": 5
}