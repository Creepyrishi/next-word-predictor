{
  "cells": [
    {
      "cell_type": "code",
      "execution_count": 12,
      "id": "5375dbed-bace-4120-a9c2-88331512a192",
      "metadata": {
        "id": "5375dbed-bace-4120-a9c2-88331512a192"
      },
      "outputs": [],
      "source": [
        "import re\n",
        "import torch\n",
        "import torch.nn.functional as F\n",
        "from torch.utils.data import Dataset, DataLoader\n",
        "import torch.nn as nn\n",
        "from torch.optim import Adam\n",
        "import numpy as np\n",
        "import json\n",
        "import matplotlib.pyplot as plt\n",
        "from nltk.tokenize import word_tokenize\n",
        "import nltk"
      ]
    },
    {
      "cell_type": "code",
      "execution_count": 13,
      "id": "e96b789f-0fa9-4c8f-93b4-1d9076732a87",
      "metadata": {
        "id": "e96b789f-0fa9-4c8f-93b4-1d9076732a87"
      },
      "outputs": [],
      "source": [
        "def chunk_sentence(sentence, max_words=15):\n",
        "    words = sentence.split()\n",
        "    chunks = []\n",
        "    for i in range(0, len(words), max_words):\n",
        "        chunk = words[i:i+max_words]\n",
        "        chunks.append(' '.join(chunk))\n",
        "    return chunks"
      ]
    },
    {
      "cell_type": "code",
      "execution_count": 14,
      "id": "1958125f-9056-4cdd-91c3-255e2cac5038",
      "metadata": {
        "colab": {
          "base_uri": "https://localhost:8080/"
        },
        "id": "1958125f-9056-4cdd-91c3-255e2cac5038",
        "outputId": "6854d96b-1bb3-4bba-b5ca-4ff5cb4b37f3"
      },
      "outputs": [
        {
          "data": {
            "text/plain": [
              "['  Everything was in confusion in the Oblonskys’ house',\n",
              " ' The wife had discovered that the husband was carrying on an intrigue with a French girl, who had been a governess in their family, and she had announced to her husband that she could not go on living in the same house with him']"
            ]
          },
          "execution_count": 14,
          "metadata": {},
          "output_type": "execute_result"
        }
      ],
      "source": [
        "bk1 = open('book1.txt', 'r', encoding='utf-8').read().replace('\\n', ' ').split('.')\n",
        "bk1[1:3]"
      ]
    },
    {
      "cell_type": "code",
      "execution_count": 15,
      "id": "5461300b-2e5e-44b5-96e5-895d4ebd942f",
      "metadata": {
        "colab": {
          "base_uri": "https://localhost:8080/"
        },
        "id": "5461300b-2e5e-44b5-96e5-895d4ebd942f",
        "outputId": "11868475-2c20-4684-e7af-523de54b5239"
      },
      "outputs": [
        {
          "data": {
            "text/plain": [
              "[' It stands in the centre of a small bay, and upon a gentle acclivity, which, on one side, slopes towards the sea, and on the other rises into an eminence crowned by dark woods',\n",
              " ' The situation is admirably beautiful and picturesque, and the ruins have an air of ancient grandeur, which, contrasted with the present solitude of the scene, impresses the traveller with awe and curiosity']"
            ]
          },
          "execution_count": 15,
          "metadata": {},
          "output_type": "execute_result"
        }
      ],
      "source": [
        "bk2 = open('book2.txt', 'r', encoding='utf-8').read().replace('\\n', ' ').split('.')\n",
        "bk2[1:3]"
      ]
    },
    {
      "cell_type": "code",
      "execution_count": 16,
      "id": "b9a0ab04-5ee3-4523-ac95-59ad984f6bff",
      "metadata": {
        "id": "b9a0ab04-5ee3-4523-ac95-59ad984f6bff"
      },
      "outputs": [],
      "source": [
        "raw_sentences = bk1 + bk2\n",
        "sentences = []\n",
        "max_words = 30\n",
        "for sentence in raw_sentences:\n",
        "    chunks = chunk_sentence(sentence, max_words=max_words)\n",
        "    for c in chunks:\n",
        "        if len(c) > 2:\n",
        "            sentences.append(c)"
      ]
    },
    {
      "cell_type": "code",
      "execution_count": 17,
      "id": "184e4ea6-8b62-461a-8cbc-39729098967b",
      "metadata": {
        "colab": {
          "base_uri": "https://localhost:8080/"
        },
        "id": "184e4ea6-8b62-461a-8cbc-39729098967b",
        "outputId": "e118cc5a-9354-44ab-ec89-80c5bb1dd51b"
      },
      "outputs": [
        {
          "data": {
            "text/plain": [
              "['PART ONE Chapter 1 Happy families are all alike; every unhappy family is unhappy in its own way',\n",
              " 'Everything was in confusion in the Oblonskys’ house']"
            ]
          },
          "execution_count": 17,
          "metadata": {},
          "output_type": "execute_result"
        }
      ],
      "source": [
        "sentences[:2]"
      ]
    },
    {
      "cell_type": "code",
      "execution_count": 18,
      "id": "b5fe20e8-2e63-4664-9ee7-04013233bc27",
      "metadata": {
        "colab": {
          "base_uri": "https://localhost:8080/"
        },
        "id": "b5fe20e8-2e63-4664-9ee7-04013233bc27",
        "outputId": "254f4cd1-0de8-4cde-e8da-44db8b070b60"
      },
      "outputs": [
        {
          "data": {
            "text/plain": [
              "10627"
            ]
          },
          "execution_count": 18,
          "metadata": {},
          "output_type": "execute_result"
        }
      ],
      "source": [
        "len(sentences)"
      ]
    },
    {
      "cell_type": "code",
      "execution_count": 19,
      "id": "6f649a9d-f217-4365-aa6c-70273e2b0af5",
      "metadata": {
        "id": "6f649a9d-f217-4365-aa6c-70273e2b0af5"
      },
      "outputs": [],
      "source": [
        "def clean_text(text):\n",
        "    text = text.lower()\n",
        "    # Add spaces around punctuation\n",
        "    text = re.sub(r'([^\\w\\s])', r' \\1 ', text)\n",
        "    # Remove punctuation\n",
        "    text = re.sub(r'[^\\w\\s]', ' ', text)\n",
        "    # Normalize spaces\n",
        "    text = re.sub(r'\\s+', ' ', text)\n",
        "    return text.strip()\n",
        "\n",
        "\n",
        "def get_only_words(text):\n",
        "    tokens = word_tokenize(text)\n",
        "    words = [token for token in tokens if token.isalpha()]\n",
        "    return words"
      ]
    },
    {
      "cell_type": "code",
      "execution_count": 20,
      "id": "09996266-1a29-4486-a1e9-cf2b705b775e",
      "metadata": {
        "colab": {
          "base_uri": "https://localhost:8080/"
        },
        "id": "09996266-1a29-4486-a1e9-cf2b705b775e",
        "outputId": "80717612-3fba-47ab-d013-6a36c46b7795"
      },
      "outputs": [
        {
          "data": {
            "text/plain": [
              "10627"
            ]
          },
          "execution_count": 20,
          "metadata": {},
          "output_type": "execute_result"
        }
      ],
      "source": [
        "sentences = [clean_text(txt) for txt in sentences]\n",
        "len(sentences)"
      ]
    },
    {
      "cell_type": "code",
      "execution_count": 21,
      "id": "a221ad99-b4c7-4c8d-937b-484646efd173",
      "metadata": {
        "colab": {
          "base_uri": "https://localhost:8080/"
        },
        "id": "a221ad99-b4c7-4c8d-937b-484646efd173",
        "outputId": "a94428d4-cb43-4d5d-e3a4-8c88ad3cd14a"
      },
      "outputs": [
        {
          "data": {
            "text/plain": [
              "['everything was in confusion in the oblonskys house',\n",
              " 'the wife had discovered that the husband was carrying on an intrigue with a french girl who had been a governess in their family and she had announced to her']"
            ]
          },
          "execution_count": 21,
          "metadata": {},
          "output_type": "execute_result"
        }
      ],
      "source": [
        "sentences[1:3]"
      ]
    },
    {
      "cell_type": "code",
      "execution_count": 22,
      "id": "d446a75a-c8fd-4d5e-ba0c-a98029192cc6",
      "metadata": {
        "colab": {
          "base_uri": "https://localhost:8080/"
        },
        "id": "d446a75a-c8fd-4d5e-ba0c-a98029192cc6",
        "outputId": "db5479d5-5a60-4ba6-cd9e-4c4ef2cd62c4"
      },
      "outputs": [
        {
          "data": {
            "text/plain": [
              "['thrilled', 'conquered', 'determined']"
            ]
          },
          "execution_count": 22,
          "metadata": {},
          "output_type": "execute_result"
        }
      ],
      "source": [
        "word_list1 = set(get_only_words(\"\".join(bk2)))\n",
        "word_list2 = set(get_only_words(\"\".join(bk1)))\n",
        "all_word_list = list(word_list1) + list(word_list2)\n",
        "all_word_list[:3]"
      ]
    },
    {
      "cell_type": "code",
      "execution_count": 23,
      "id": "a2ca5d50-2e7a-4936-8761-1c4562677003",
      "metadata": {
        "id": "a2ca5d50-2e7a-4936-8761-1c4562677003"
      },
      "outputs": [],
      "source": [
        "w_to_i = {word:i+2 for i, word in enumerate(set(all_word_list))}\n",
        "w_to_i['<UNK>'] = 1\n",
        "i_to_w = {v:k for k, v in w_to_i.items()}\n",
        "with open('vocab.json', 'w') as fp:\n",
        "    json.dump(w_to_i, fp)"
      ]
    },
    {
      "cell_type": "code",
      "execution_count": 24,
      "id": "a2826a64-2ee3-4347-8e86-f4d39febfb6f",
      "metadata": {
        "colab": {
          "base_uri": "https://localhost:8080/"
        },
        "id": "a2826a64-2ee3-4347-8e86-f4d39febfb6f",
        "outputId": "d151b679-bc57-4c43-a47e-cd7065f0ac04"
      },
      "outputs": [
        {
          "data": {
            "text/plain": [
              "11130"
            ]
          },
          "execution_count": 24,
          "metadata": {},
          "output_type": "execute_result"
        }
      ],
      "source": [
        "vocab_size = len(set(w_to_i.values())) +1 #+1 for padding \"0\"\n",
        "vocab_size"
      ]
    },
    {
      "cell_type": "code",
      "execution_count": 25,
      "id": "8df1ff37-58d9-4b96-b5e7-91658ac80aba",
      "metadata": {
        "id": "8df1ff37-58d9-4b96-b5e7-91658ac80aba"
      },
      "outputs": [],
      "source": [
        "def sentence_to_int(sentence):\n",
        "    sentence_to_int = []\n",
        "    for word in sentence.split(\" \"):\n",
        "        int_word = w_to_i.get(word, w_to_i.get('<UNK>'))\n",
        "        sentence_to_int.append(int_word)\n",
        "    return sentence_to_int"
      ]
    },
    {
      "cell_type": "code",
      "execution_count": 26,
      "id": "3354e2ce-2240-4228-90d9-d26b7a4f7b45",
      "metadata": {
        "colab": {
          "base_uri": "https://localhost:8080/"
        },
        "id": "3354e2ce-2240-4228-90d9-d26b7a4f7b45",
        "outputId": "68137a7f-b9b5-4271-d992-f3d9c4c7a12d"
      },
      "outputs": [
        {
          "data": {
            "text/plain": [
              "[5252, 7624, 5930, 3840, 5930, 10583, 1, 2659]"
            ]
          },
          "execution_count": 26,
          "metadata": {},
          "output_type": "execute_result"
        }
      ],
      "source": [
        "sentence_to_int('everything was in confusion in the oblonskys house')"
      ]
    },
    {
      "cell_type": "code",
      "execution_count": 27,
      "id": "b4663245-9f27-4273-a3ef-4b5ea2194885",
      "metadata": {
        "colab": {
          "base_uri": "https://localhost:8080/"
        },
        "id": "b4663245-9f27-4273-a3ef-4b5ea2194885",
        "outputId": "3e70750c-230d-4f74-ed71-582d3b40ac40"
      },
      "outputs": [
        {
          "data": {
            "text/plain": [
              "[5252, 7624, 5930, 3840, 5930, 10583, 1, 2659]"
            ]
          },
          "execution_count": 27,
          "metadata": {},
          "output_type": "execute_result"
        }
      ],
      "source": [
        "int_sentences = [sentence_to_int(sentence) for sentence in sentences]\n",
        "int_sentences[1]"
      ]
    },
    {
      "cell_type": "code",
      "execution_count": 28,
      "id": "8a32bb83-1e2e-4d05-b24c-b32bf2e2d0c8",
      "metadata": {
        "colab": {
          "base_uri": "https://localhost:8080/"
        },
        "id": "8a32bb83-1e2e-4d05-b24c-b32bf2e2d0c8",
        "outputId": "b24b1e98-0266-4170-cbf9-1b1396dfc202"
      },
      "outputs": [
        {
          "data": {
            "text/plain": [
              "10627"
            ]
          },
          "execution_count": 28,
          "metadata": {},
          "output_type": "execute_result"
        }
      ],
      "source": [
        "len(int_sentences)"
      ]
    },
    {
      "cell_type": "code",
      "execution_count": 29,
      "id": "da2eb24b-cbf6-407b-906c-4dd1fc900fac",
      "metadata": {
        "colab": {
          "base_uri": "https://localhost:8080/"
        },
        "id": "da2eb24b-cbf6-407b-906c-4dd1fc900fac",
        "outputId": "cbcd9f5e-2617-48c3-ed65-97e6f66b4914"
      },
      "outputs": [
        {
          "data": {
            "text/plain": [
              "36"
            ]
          },
          "execution_count": 29,
          "metadata": {},
          "output_type": "execute_result"
        }
      ],
      "source": [
        "max(len(x) for x in int_sentences)"
      ]
    },
    {
      "cell_type": "code",
      "execution_count": 30,
      "id": "22c3e0b2-8a74-4454-80ee-9d543d760acd",
      "metadata": {
        "id": "22c3e0b2-8a74-4454-80ee-9d543d760acd"
      },
      "outputs": [],
      "source": [
        "input_sq = []\n",
        "output_sq = []\n",
        "for sentence in int_sentences:\n",
        "    for i in range(1, len(sentence)):\n",
        "        temp = sentence[:i]\n",
        "        pad = ( max_words - len(temp), 0)\n",
        "        if temp != None:\n",
        "            try:\n",
        "                padded = F.pad(torch.tensor(temp), pad, value= 0)\n",
        "            except Exception as e:\n",
        "                print(e)\n",
        "                print(sentence)\n",
        "                print(temp)\n",
        "                break\n",
        "\n",
        "            input_sq.append(padded)\n",
        "            output_sq.append(sentence[i])"
      ]
    },
    {
      "cell_type": "code",
      "execution_count": 31,
      "id": "ade2c561-68cb-45cc-bc9d-69672e2d365b",
      "metadata": {
        "colab": {
          "base_uri": "https://localhost:8080/"
        },
        "id": "ade2c561-68cb-45cc-bc9d-69672e2d365b",
        "outputId": "1f503fa7-3ece-44e5-d105-321e45116277"
      },
      "outputs": [
        {
          "data": {
            "text/plain": [
              "175640"
            ]
          },
          "execution_count": 31,
          "metadata": {},
          "output_type": "execute_result"
        }
      ],
      "source": [
        "len(input_sq)"
      ]
    },
    {
      "cell_type": "code",
      "execution_count": 32,
      "id": "58dea985-f452-4bc3-9db4-4c2f45600e52",
      "metadata": {
        "colab": {
          "base_uri": "https://localhost:8080/"
        },
        "id": "58dea985-f452-4bc3-9db4-4c2f45600e52",
        "outputId": "ca10df1e-7269-4205-a7c5-59f63dd62389"
      },
      "outputs": [
        {
          "data": {
            "text/plain": [
              "175640"
            ]
          },
          "execution_count": 32,
          "metadata": {},
          "output_type": "execute_result"
        }
      ],
      "source": [
        "len(output_sq)"
      ]
    },
    {
      "cell_type": "code",
      "execution_count": 33,
      "id": "ff6bec55-12f2-40c9-a11a-b8f2ed464069",
      "metadata": {
        "id": "ff6bec55-12f2-40c9-a11a-b8f2ed464069"
      },
      "outputs": [],
      "source": [
        "class mydata(Dataset):\n",
        "    def __init__(self, x, y):\n",
        "        super().__init__()\n",
        "        self.x = x\n",
        "        self.y = y\n",
        "    def __len__(self):\n",
        "        return len(self.y)\n",
        "\n",
        "    def __getitem__(self, idx):\n",
        "        return self.x[idx], self.y[idx]"
      ]
    },
    {
      "cell_type": "code",
      "execution_count": 34,
      "id": "7276f6db-9780-4ec7-b26e-a825417ced98",
      "metadata": {
        "id": "7276f6db-9780-4ec7-b26e-a825417ced98"
      },
      "outputs": [],
      "source": [
        "torch.manual_seed(10)\n",
        "data = mydata(input_sq, torch.tensor(output_sq))\n",
        "batched_data= DataLoader(data, 64, shuffle=True)"
      ]
    },
    {
      "cell_type": "code",
      "execution_count": 35,
      "id": "dac25db9-927d-4c1b-b613-ab1dfd6bcae4",
      "metadata": {
        "id": "dac25db9-927d-4c1b-b613-ab1dfd6bcae4"
      },
      "outputs": [],
      "source": [
        "class Normal_LSTM(nn.Module):\n",
        "    def __init__(self):\n",
        "        super().__init__()\n",
        "        self.emb = nn.Embedding(vocab_size, embedding_dim=100, padding_idx = 0)\n",
        "        self.do = nn.Dropout(.1)\n",
        "        self.lstm = nn.LSTM(input_size = 100, hidden_size=150, num_layers=2, batch_first = True)\n",
        "        self.layers = nn.Sequential(\n",
        "            nn.Linear(in_features=150, out_features=200),\n",
        "            nn.Dropout(.2),\n",
        "            nn.ReLU(),\n",
        "            nn.Linear(in_features=200, out_features=vocab_size)\n",
        "        )\n",
        "    def forward(self, x):\n",
        "        x = self.emb(x)\n",
        "        y = self.do(x)\n",
        "        h, c = self.lstm(x)\n",
        "        y = h[:, -1, :]\n",
        "        y = self.layers(y)\n",
        "\n",
        "        return y"
      ]
    },
    {
      "cell_type": "code",
      "execution_count": 36,
      "id": "8b6518c9",
      "metadata": {},
      "outputs": [],
      "source": [
        "class Bi_LSTM(nn.Module):\n",
        "    def __init__(self):\n",
        "        super().__init__()\n",
        "        self.emb = nn.Embedding(vocab_size, embedding_dim=100, padding_idx = 0)\n",
        "        self.do = nn.Dropout(.1)\n",
        "        self.lstm = nn.LSTM(input_size = 100, hidden_size=150, num_layers=2, batch_first = True, bidirectional=True)\n",
        "        self.layers = nn.Sequential(\n",
        "            nn.Linear(in_features=150*2, out_features=200),\n",
        "            nn.Dropout(.2),\n",
        "            nn.ReLU(),\n",
        "            nn.Linear(in_features=200, out_features=vocab_size)\n",
        "        )\n",
        "    def forward(self, x):\n",
        "        x = self.emb(x)\n",
        "        y = self.do(x)\n",
        "        h, c = self.lstm(x)\n",
        "        y = h[:, -1, :]\n",
        "        y = self.layers(y)\n",
        "\n",
        "        return y"
      ]
    },
    {
      "cell_type": "code",
      "execution_count": 48,
      "id": "bdd7e436",
      "metadata": {},
      "outputs": [],
      "source": [
        "class bi_GRU(nn.Module):\n",
        "    def __init__(self):\n",
        "        super().__init__()\n",
        "        self.emb = nn.Embedding(vocab_size, embedding_dim=100, padding_idx = 0)\n",
        "        self.do = nn.Dropout(.1)\n",
        "        self.gru = nn.GRU(input_size = 100, hidden_size=150, num_layers=2, batch_first = True, bidirectional=True)\n",
        "        self.layers = nn.Sequential(\n",
        "            nn.Linear(in_features=2*150, out_features=200),\n",
        "            nn.Dropout(.2),\n",
        "            nn.ReLU(),\n",
        "            nn.Linear(in_features=200, out_features=vocab_size)\n",
        "        )\n",
        "    def forward(self, x):\n",
        "        x = self.emb(x)\n",
        "        y = self.do(x)\n",
        "        h, c = self.gru(x)\n",
        "        y = h[:, -1, :]\n",
        "        y = self.layers(y)\n",
        "\n",
        "        return y"
      ]
    },
    {
      "cell_type": "code",
      "execution_count": 39,
      "id": "6916c0c6-0734-4058-935e-70dd2d4fc0b3",
      "metadata": {
        "id": "6916c0c6-0734-4058-935e-70dd2d4fc0b3"
      },
      "outputs": [],
      "source": [
        "def train(model, epochs, optim, loss_fn, file_name, patient = 3):\n",
        "    model.train()\n",
        "    best_loss = float('inf')\n",
        "    epochs_loss = []\n",
        "    for epoch in range(epochs):\n",
        "        loss_ = []\n",
        "        for batch in batched_data:\n",
        "            x, y = batch\n",
        "            x, y  = (x).to(device), (y).to(device)\n",
        "            y_pred = model(x)\n",
        "\n",
        "            loss = loss_fn(y_pred, y)\n",
        "            loss.backward()\n",
        "            optim.step()\n",
        "            optim.zero_grad()\n",
        "\n",
        "            loss_.append(loss.item())\n",
        "\n",
        "        epoch_loss = np.mean(loss_)\n",
        "        epochs_loss.append(epoch_loss)\n",
        "        print(f\"Epochs: {epoch} | Loss: {epoch_loss:.4f}\")\n",
        "\n",
        "        if best_loss > epoch_loss:\n",
        "            best_loss = epoch_loss\n",
        "            counter = 0\n",
        "            torch.save(model.state_dict(), f\"models/{file_name}_best_model.pt\")\n",
        "            print(f\"model saved with loss: {best_loss:.4f}\")\n",
        "        else:\n",
        "            counter += 1\n",
        "            if counter >= patient:\n",
        "                print(f\"Early stopping after {epoch} epochs without improvement\")\n",
        "                break\n",
        "\n",
        "    return epochs_loss"
      ]
    },
    {
      "cell_type": "code",
      "execution_count": null,
      "id": "c8d013dc-0302-4696-9810-1a9ff1458b6d",
      "metadata": {
        "colab": {
          "base_uri": "https://localhost:8080/"
        },
        "id": "c8d013dc-0302-4696-9810-1a9ff1458b6d",
        "outputId": "332a0171-e709-41ec-9f9c-ef335774e18c"
      },
      "outputs": [
        {
          "name": "stdout",
          "output_type": "stream",
          "text": [
            "Using device: cuda\n",
            "Training LSTM model\n",
            "Epochs: 0 | Loss: 6.2407\n",
            "model saved with loss: 6.2407\n",
            "Epochs: 1 | Loss: 5.6369\n",
            "model saved with loss: 5.6369\n",
            "Epochs: 2 | Loss: 5.3301\n",
            "model saved with loss: 5.3301\n",
            "Epochs: 3 | Loss: 5.0965\n",
            "model saved with loss: 5.0965\n",
            "Epochs: 4 | Loss: 4.8865\n",
            "model saved with loss: 4.8865\n",
            "Epochs: 5 | Loss: 4.6898\n",
            "model saved with loss: 4.6898\n",
            "Epochs: 6 | Loss: 4.5110\n",
            "model saved with loss: 4.5110\n",
            "Epochs: 7 | Loss: 4.3379\n",
            "model saved with loss: 4.3379\n",
            "Epochs: 8 | Loss: 4.1774\n",
            "model saved with loss: 4.1774\n",
            "Epochs: 9 | Loss: 4.0252\n",
            "model saved with loss: 4.0252\n",
            "Epochs: 10 | Loss: 3.8868\n",
            "model saved with loss: 3.8868\n",
            "Epochs: 11 | Loss: 3.7545\n",
            "model saved with loss: 3.7545\n",
            "Epochs: 12 | Loss: 3.6331\n",
            "model saved with loss: 3.6331\n",
            "Epochs: 13 | Loss: 3.5118\n",
            "model saved with loss: 3.5118\n",
            "Epochs: 14 | Loss: 3.4033\n",
            "model saved with loss: 3.4033\n",
            "Epochs: 15 | Loss: 3.2992\n",
            "model saved with loss: 3.2992\n",
            "Epochs: 16 | Loss: 3.2010\n",
            "model saved with loss: 3.2010\n",
            "Epochs: 17 | Loss: 3.1061\n",
            "model saved with loss: 3.1061\n",
            "Epochs: 18 | Loss: 3.0163\n",
            "model saved with loss: 3.0163\n",
            "Epochs: 19 | Loss: 2.9354\n",
            "model saved with loss: 2.9354\n",
            "Training BiLSTM model\n",
            "Epochs: 0 | Loss: 6.1053\n",
            "model saved with loss: 6.1053\n",
            "Epochs: 1 | Loss: 5.5235\n",
            "model saved with loss: 5.5235\n",
            "Epochs: 2 | Loss: 5.2203\n",
            "model saved with loss: 5.2203\n",
            "Epochs: 3 | Loss: 4.9768\n",
            "model saved with loss: 4.9768\n",
            "Epochs: 4 | Loss: 4.7536\n",
            "model saved with loss: 4.7536\n",
            "Epochs: 5 | Loss: 4.5382\n",
            "model saved with loss: 4.5382\n",
            "Epochs: 6 | Loss: 4.3323\n",
            "model saved with loss: 4.3323\n",
            "Epochs: 7 | Loss: 4.1403\n",
            "model saved with loss: 4.1403\n",
            "Epochs: 8 | Loss: 3.9565\n",
            "model saved with loss: 3.9565\n",
            "Epochs: 9 | Loss: 3.7858\n",
            "model saved with loss: 3.7858\n",
            "Epochs: 10 | Loss: 3.6227\n",
            "model saved with loss: 3.6227\n",
            "Epochs: 11 | Loss: 3.4795\n",
            "model saved with loss: 3.4795\n",
            "Epochs: 12 | Loss: 3.3446\n",
            "model saved with loss: 3.3446\n",
            "Epochs: 13 | Loss: 3.2185\n",
            "model saved with loss: 3.2185\n",
            "Epochs: 14 | Loss: 3.1005\n",
            "model saved with loss: 3.1005\n",
            "Epochs: 15 | Loss: 2.9927\n",
            "model saved with loss: 2.9927\n",
            "Epochs: 16 | Loss: 2.8994\n",
            "model saved with loss: 2.8994\n",
            "Epochs: 17 | Loss: 2.8084\n",
            "model saved with loss: 2.8084\n",
            "Epochs: 18 | Loss: 2.7256\n",
            "model saved with loss: 2.7256\n",
            "Epochs: 19 | Loss: 2.6607\n",
            "model saved with loss: 2.6607\n",
            "Training BiGRU model\n"
          ]
        },
        {
          "ename": "AttributeError",
          "evalue": "'bi_GRU' object has no attribute 'lstm'",
          "output_type": "error",
          "traceback": [
            "\u001b[1;31m---------------------------------------------------------------------------\u001b[0m",
            "\u001b[1;31mAttributeError\u001b[0m                            Traceback (most recent call last)",
            "Cell \u001b[1;32mIn[42], line 12\u001b[0m\n\u001b[0;32m     10\u001b[0m optim \u001b[38;5;241m=\u001b[39m Adam(model\u001b[38;5;241m.\u001b[39mparameters(), lr \u001b[38;5;241m=\u001b[39m \u001b[38;5;241m0.001\u001b[39m)\n\u001b[0;32m     11\u001b[0m loss_fn \u001b[38;5;241m=\u001b[39m nn\u001b[38;5;241m.\u001b[39mCrossEntropyLoss(ignore_index\u001b[38;5;241m=\u001b[39m\u001b[38;5;241m0\u001b[39m) \u001b[38;5;66;03m#ignoring padding\u001b[39;00m\n\u001b[1;32m---> 12\u001b[0m loss \u001b[38;5;241m=\u001b[39m \u001b[43mtrain\u001b[49m\u001b[43m(\u001b[49m\u001b[43mmodel\u001b[49m\u001b[43m,\u001b[49m\u001b[43m \u001b[49m\u001b[38;5;241;43m20\u001b[39;49m\u001b[43m,\u001b[49m\u001b[43m \u001b[49m\u001b[43moptim\u001b[49m\u001b[43m,\u001b[49m\u001b[43m \u001b[49m\u001b[43mloss_fn\u001b[49m\u001b[43m,\u001b[49m\u001b[43m \u001b[49m\u001b[43mfile_name\u001b[49m\u001b[43m \u001b[49m\u001b[38;5;241;43m=\u001b[39;49m\u001b[43m \u001b[49m\u001b[43mname\u001b[49m\u001b[43m)\u001b[49m\n\u001b[0;32m     13\u001b[0m all_loss[name] \u001b[38;5;241m=\u001b[39m loss\n",
            "Cell \u001b[1;32mIn[39], line 10\u001b[0m, in \u001b[0;36mtrain\u001b[1;34m(model, epochs, optim, loss_fn, file_name, patient)\u001b[0m\n\u001b[0;32m      8\u001b[0m x, y \u001b[38;5;241m=\u001b[39m batch\n\u001b[0;32m      9\u001b[0m x, y  \u001b[38;5;241m=\u001b[39m (x)\u001b[38;5;241m.\u001b[39mto(device), (y)\u001b[38;5;241m.\u001b[39mto(device)\n\u001b[1;32m---> 10\u001b[0m y_pred \u001b[38;5;241m=\u001b[39m \u001b[43mmodel\u001b[49m\u001b[43m(\u001b[49m\u001b[43mx\u001b[49m\u001b[43m)\u001b[49m\n\u001b[0;32m     12\u001b[0m loss \u001b[38;5;241m=\u001b[39m loss_fn(y_pred, y)\n\u001b[0;32m     13\u001b[0m loss\u001b[38;5;241m.\u001b[39mbackward()\n",
            "File \u001b[1;32mc:\\Users\\ACER\\AppData\\Local\\Programs\\Python\\Python39\\lib\\site-packages\\torch\\nn\\modules\\module.py:1739\u001b[0m, in \u001b[0;36mModule._wrapped_call_impl\u001b[1;34m(self, *args, **kwargs)\u001b[0m\n\u001b[0;32m   1737\u001b[0m     \u001b[38;5;28;01mreturn\u001b[39;00m \u001b[38;5;28mself\u001b[39m\u001b[38;5;241m.\u001b[39m_compiled_call_impl(\u001b[38;5;241m*\u001b[39margs, \u001b[38;5;241m*\u001b[39m\u001b[38;5;241m*\u001b[39mkwargs)  \u001b[38;5;66;03m# type: ignore[misc]\u001b[39;00m\n\u001b[0;32m   1738\u001b[0m \u001b[38;5;28;01melse\u001b[39;00m:\n\u001b[1;32m-> 1739\u001b[0m     \u001b[38;5;28;01mreturn\u001b[39;00m \u001b[38;5;28mself\u001b[39m\u001b[38;5;241m.\u001b[39m_call_impl(\u001b[38;5;241m*\u001b[39margs, \u001b[38;5;241m*\u001b[39m\u001b[38;5;241m*\u001b[39mkwargs)\n",
            "File \u001b[1;32mc:\\Users\\ACER\\AppData\\Local\\Programs\\Python\\Python39\\lib\\site-packages\\torch\\nn\\modules\\module.py:1750\u001b[0m, in \u001b[0;36mModule._call_impl\u001b[1;34m(self, *args, **kwargs)\u001b[0m\n\u001b[0;32m   1745\u001b[0m \u001b[38;5;66;03m# If we don't have any hooks, we want to skip the rest of the logic in\u001b[39;00m\n\u001b[0;32m   1746\u001b[0m \u001b[38;5;66;03m# this function, and just call forward.\u001b[39;00m\n\u001b[0;32m   1747\u001b[0m \u001b[38;5;28;01mif\u001b[39;00m \u001b[38;5;129;01mnot\u001b[39;00m (\u001b[38;5;28mself\u001b[39m\u001b[38;5;241m.\u001b[39m_backward_hooks \u001b[38;5;129;01mor\u001b[39;00m \u001b[38;5;28mself\u001b[39m\u001b[38;5;241m.\u001b[39m_backward_pre_hooks \u001b[38;5;129;01mor\u001b[39;00m \u001b[38;5;28mself\u001b[39m\u001b[38;5;241m.\u001b[39m_forward_hooks \u001b[38;5;129;01mor\u001b[39;00m \u001b[38;5;28mself\u001b[39m\u001b[38;5;241m.\u001b[39m_forward_pre_hooks\n\u001b[0;32m   1748\u001b[0m         \u001b[38;5;129;01mor\u001b[39;00m _global_backward_pre_hooks \u001b[38;5;129;01mor\u001b[39;00m _global_backward_hooks\n\u001b[0;32m   1749\u001b[0m         \u001b[38;5;129;01mor\u001b[39;00m _global_forward_hooks \u001b[38;5;129;01mor\u001b[39;00m _global_forward_pre_hooks):\n\u001b[1;32m-> 1750\u001b[0m     \u001b[38;5;28;01mreturn\u001b[39;00m forward_call(\u001b[38;5;241m*\u001b[39margs, \u001b[38;5;241m*\u001b[39m\u001b[38;5;241m*\u001b[39mkwargs)\n\u001b[0;32m   1752\u001b[0m result \u001b[38;5;241m=\u001b[39m \u001b[38;5;28;01mNone\u001b[39;00m\n\u001b[0;32m   1753\u001b[0m called_always_called_hooks \u001b[38;5;241m=\u001b[39m \u001b[38;5;28mset\u001b[39m()\n",
            "Cell \u001b[1;32mIn[37], line 16\u001b[0m, in \u001b[0;36mbi_GRU.forward\u001b[1;34m(self, x)\u001b[0m\n\u001b[0;32m     14\u001b[0m x \u001b[38;5;241m=\u001b[39m \u001b[38;5;28mself\u001b[39m\u001b[38;5;241m.\u001b[39memb(x)\n\u001b[0;32m     15\u001b[0m y \u001b[38;5;241m=\u001b[39m \u001b[38;5;28mself\u001b[39m\u001b[38;5;241m.\u001b[39mdo(x)\n\u001b[1;32m---> 16\u001b[0m h, c \u001b[38;5;241m=\u001b[39m \u001b[38;5;28;43mself\u001b[39;49m\u001b[38;5;241;43m.\u001b[39;49m\u001b[43mlstm\u001b[49m(x)\n\u001b[0;32m     17\u001b[0m y \u001b[38;5;241m=\u001b[39m h[:, \u001b[38;5;241m-\u001b[39m\u001b[38;5;241m1\u001b[39m, :]\n\u001b[0;32m     18\u001b[0m y \u001b[38;5;241m=\u001b[39m \u001b[38;5;28mself\u001b[39m\u001b[38;5;241m.\u001b[39mlayers(y)\n",
            "File \u001b[1;32mc:\\Users\\ACER\\AppData\\Local\\Programs\\Python\\Python39\\lib\\site-packages\\torch\\nn\\modules\\module.py:1928\u001b[0m, in \u001b[0;36mModule.__getattr__\u001b[1;34m(self, name)\u001b[0m\n\u001b[0;32m   1926\u001b[0m     \u001b[38;5;28;01mif\u001b[39;00m name \u001b[38;5;129;01min\u001b[39;00m modules:\n\u001b[0;32m   1927\u001b[0m         \u001b[38;5;28;01mreturn\u001b[39;00m modules[name]\n\u001b[1;32m-> 1928\u001b[0m \u001b[38;5;28;01mraise\u001b[39;00m \u001b[38;5;167;01mAttributeError\u001b[39;00m(\n\u001b[0;32m   1929\u001b[0m     \u001b[38;5;124mf\u001b[39m\u001b[38;5;124m\"\u001b[39m\u001b[38;5;124m'\u001b[39m\u001b[38;5;132;01m{\u001b[39;00m\u001b[38;5;28mtype\u001b[39m(\u001b[38;5;28mself\u001b[39m)\u001b[38;5;241m.\u001b[39m\u001b[38;5;18m__name__\u001b[39m\u001b[38;5;132;01m}\u001b[39;00m\u001b[38;5;124m'\u001b[39m\u001b[38;5;124m object has no attribute \u001b[39m\u001b[38;5;124m'\u001b[39m\u001b[38;5;132;01m{\u001b[39;00mname\u001b[38;5;132;01m}\u001b[39;00m\u001b[38;5;124m'\u001b[39m\u001b[38;5;124m\"\u001b[39m\n\u001b[0;32m   1930\u001b[0m )\n",
            "\u001b[1;31mAttributeError\u001b[0m: 'bi_GRU' object has no attribute 'lstm'"
          ]
        }
      ],
      "source": [
        "device = torch.device('cuda' if torch.cuda.is_available() else 'cpu')\n",
        "print(f\"Using device: {device}\")\n",
        "model_lstm = (Normal_LSTM()).to(device)\n",
        "model_bilstm= (Bi_LSTM()).to(device)\n",
        "\n",
        "all_loss = {}\n",
        "for name, model in zip(['LSTM', 'BiLSTM'], [model_lstm, model_bilstm]):\n",
        "    print(f\"Training {name} model\")\n",
        "    optim = Adam(model.parameters(), lr = 0.001)\n",
        "    loss_fn = nn.CrossEntropyLoss(ignore_index=0) #ignoring padding\n",
        "    loss = train(model, 20, optim, loss_fn, file_name = name)\n",
        "    all_loss[name] = loss"
      ]
    },
    {
      "cell_type": "code",
      "execution_count": 49,
      "id": "e900f441",
      "metadata": {},
      "outputs": [
        {
          "name": "stdout",
          "output_type": "stream",
          "text": [
            "Training BiGRU model\n",
            "Epochs: 0 | Loss: 6.0874\n",
            "model saved with loss: 6.0874\n",
            "Epochs: 1 | Loss: 5.5199\n",
            "model saved with loss: 5.5199\n",
            "Epochs: 2 | Loss: 5.2211\n",
            "model saved with loss: 5.2211\n",
            "Epochs: 3 | Loss: 4.9766\n",
            "model saved with loss: 4.9766\n",
            "Epochs: 4 | Loss: 4.7618\n",
            "model saved with loss: 4.7618\n",
            "Epochs: 5 | Loss: 4.5724\n",
            "model saved with loss: 4.5724\n",
            "Epochs: 6 | Loss: 4.3969\n",
            "model saved with loss: 4.3969\n",
            "Epochs: 7 | Loss: 4.2415\n",
            "model saved with loss: 4.2415\n",
            "Epochs: 8 | Loss: 4.1025\n",
            "model saved with loss: 4.1025\n",
            "Epochs: 9 | Loss: 3.9756\n",
            "model saved with loss: 3.9756\n",
            "Epochs: 10 | Loss: 3.8642\n",
            "model saved with loss: 3.8642\n",
            "Epochs: 11 | Loss: 3.7663\n",
            "model saved with loss: 3.7663\n",
            "Epochs: 12 | Loss: 3.6791\n",
            "model saved with loss: 3.6791\n",
            "Epochs: 13 | Loss: 3.5997\n",
            "model saved with loss: 3.5997\n",
            "Epochs: 14 | Loss: 3.5294\n",
            "model saved with loss: 3.5294\n",
            "Epochs: 15 | Loss: 3.4591\n",
            "model saved with loss: 3.4591\n",
            "Epochs: 16 | Loss: 3.4116\n",
            "model saved with loss: 3.4116\n",
            "Epochs: 17 | Loss: 3.3583\n",
            "model saved with loss: 3.3583\n",
            "Epochs: 18 | Loss: 3.3180\n",
            "model saved with loss: 3.3180\n",
            "Epochs: 19 | Loss: 3.2744\n",
            "model saved with loss: 3.2744\n"
          ]
        }
      ],
      "source": [
        "model_bigru = (bi_GRU()).to(device)\n",
        "\n",
        "print(f\"Training BiGRU model\")\n",
        "optim = Adam(model_bigru.parameters(), lr = 0.001)\n",
        "loss_fn = nn.CrossEntropyLoss(ignore_index=0) #ignoring padding\n",
        "loss = train(model_bigru, 20, optim, loss_fn, file_name = 'BiGRU')\n",
        "all_loss['BiGRU'] = loss"
      ]
    },
    {
      "cell_type": "code",
      "execution_count": 51,
      "id": "168425c8",
      "metadata": {},
      "outputs": [
        {
          "data": {
            "text/plain": [
              "Text(0.5, 0, 'Epochs')"
            ]
          },
          "execution_count": 51,
          "metadata": {},
          "output_type": "execute_result"
        },
        {
          "data": {
            "image/png": "[encoded data removed]",
            "text/plain": [
              "<Figure size 1000x500 with 1 Axes>"
            ]
          },
          "metadata": {},
          "output_type": "display_data"
        }
      ],
      "source": [
        "plt.figure(figsize=(10, 5))\n",
        "for name, loss in all_loss.items():\n",
        "    plt.plot(loss, label=name)\n",
        "    plt.legend()\n",
        "plt.xlabel('Epochs')    "
      ]
    },
    {
      "cell_type": "code",
      "execution_count": 52,
      "id": "haD-mkSwK3fU",
      "metadata": {
        "colab": {
          "base_uri": "https://localhost:8080/"
        },
        "id": "haD-mkSwK3fU",
        "outputId": "0ee0db51-be8c-4195-ad08-3781c1966445"
      },
      "outputs": [
        {
          "name": "stdout",
          "output_type": "stream",
          "text": [
            "can I go into\n",
            "can I go into the\n",
            "can I go into the <UNK>\n",
            "can I go into the <UNK> <UNK>\n",
            "can I go into the <UNK> <UNK> board\n",
            "can I go into the <UNK> <UNK> board with\n",
            "can I go into the <UNK> <UNK> board with a\n",
            "can I go into the <UNK> <UNK> board with a scrutinizing\n",
            "can I go into the <UNK> <UNK> board with a scrutinizing eye\n",
            "can I go into the <UNK> <UNK> board with a scrutinizing eye and\n",
            "can I go into the <UNK> <UNK> board with a scrutinizing eye and suggested\n",
            "can I go into the <UNK> <UNK> board with a scrutinizing eye and suggested with\n",
            "can I go into the <UNK> <UNK> board with a scrutinizing eye and suggested with a\n",
            "can I go into the <UNK> <UNK> board with a scrutinizing eye and suggested with a salt\n",
            "can I go into the <UNK> <UNK> board with a scrutinizing eye and suggested with a salt soft\n",
            "can I go into the <UNK> <UNK> board with a scrutinizing eye and suggested with a salt soft gleam\n",
            "can I go into the <UNK> <UNK> board with a scrutinizing eye and suggested with a salt soft gleam of\n",
            "can I go into the <UNK> <UNK> board with a scrutinizing eye and suggested with a salt soft gleam of attack\n",
            "can I go into the <UNK> <UNK> board with a scrutinizing eye and suggested with a salt soft gleam of attack on\n",
            "can I go into the <UNK> <UNK> board with a scrutinizing eye and suggested with a salt soft gleam of attack on the\n"
          ]
        }
      ],
      "source": [
        "x = 'can I go'\n",
        "\n",
        "for j in range(20):\n",
        "  with torch.no_grad():\n",
        "    x_int = [w_to_i.get(i, 1) for i in x.lower().split()]\n",
        "    x_tensor = torch.tensor(x_int).to(device)\n",
        "    x_tensor = x_tensor.unsqueeze(0)\n",
        "    y = model_bilstm(x_tensor)\n",
        "    y = i_to_w.get(torch.argmax(y).item())\n",
        "    x = x + ' ' + y\n",
        "    print(x)"
      ]
    }
  ],
  "metadata": {
    "accelerator": "GPU",
    "colab": {
      "gpuType": "T4",
      "provenance": []
    },
    "kernelspec": {
      "display_name": "Python 3",
      "name": "python3"
    },
    "language_info": {
      "codemirror_mode": {
        "name": "ipython",
        "version": 3
      },
      "file_extension": ".py",
      "mimetype": "text/x-python",
      "name": "python",
      "nbconvert_exporter": "python",
      "pygments_lexer": "ipython3",
      "version": "3.9.13"
    }
  },
  "nbformat": 4,
  "nbformat_minor": 5
}
