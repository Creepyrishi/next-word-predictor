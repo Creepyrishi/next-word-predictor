{
 "cells": [
  {
   "cell_type": "code",
   "execution_count": 57,
   "id": "5375dbed-bace-4120-a9c2-88331512a192",
   "metadata": {},
   "outputs": [],
   "source": [
    "import re\n",
    "import torch\n",
    "import torch.nn.functional as F\n",
    "from torch.utils.data import Dataset, DataLoader \n",
    "import torch.nn as nn\n",
    "from torch.optim import Adam\n",
    "import numpy as np\n",
    "import json\n",
    "import matplotlib.pyplot as plt"
   ]
  },
  {
   "cell_type": "code",
   "execution_count": 58,
   "id": "e96b789f-0fa9-4c8f-93b4-1d9076732a87",
   "metadata": {},
   "outputs": [],
   "source": [
    "def chunk_sentence(sentence, max_words=15):\n",
    "    words = sentence.split()\n",
    "    chunks = []\n",
    "    for i in range(0, len(words), max_words):\n",
    "        chunk = words[i:i+max_words]\n",
    "        chunks.append(' '.join(chunk))\n",
    "    return chunks"
   ]
  },
  {
   "cell_type": "code",
   "execution_count": 59,
   "id": "1958125f-9056-4cdd-91c3-255e2cac5038",
   "metadata": {},
   "outputs": [
    {
     "data": {
      "text/plain": [
       "['  Everything was in confusion in the Oblonskys’ house',\n",
       " ' The wife had discovered that the husband was carrying on an intrigue with a French girl, who had been a governess in their family, and she had announced to her husband that she could not go on living in the same house with him']"
      ]
     },
     "execution_count": 59,
     "metadata": {},
     "output_type": "execute_result"
    }
   ],
   "source": [
    "bk1 = open('book1.txt', 'r', encoding='utf-8').read().replace('\\n', ' ').split('.')\n",
    "bk1[1:3]"
   ]
  },
  {
   "cell_type": "code",
   "execution_count": 60,
   "id": "5461300b-2e5e-44b5-96e5-895d4ebd942f",
   "metadata": {},
   "outputs": [
    {
     "data": {
      "text/plain": [
       "[' It stands in the centre of a small bay, and upon a gentle acclivity, which, on one side, slopes towards the sea, and on the other rises into an eminence crowned by dark woods',\n",
       " ' The situation is admirably beautiful and picturesque, and the ruins have an air of ancient grandeur, which, contrasted with the present solitude of the scene, impresses the traveller with awe and curiosity']"
      ]
     },
     "execution_count": 60,
     "metadata": {},
     "output_type": "execute_result"
    }
   ],
   "source": [
    "bk2 = open('book2.txt', 'r', encoding='utf-8').read().replace('\\n', ' ').split('.')\n",
    "bk2[1:3]"
   ]
  },
  {
   "cell_type": "code",
   "execution_count": 61,
   "id": "b9a0ab04-5ee3-4523-ac95-59ad984f6bff",
   "metadata": {},
   "outputs": [],
   "source": [
    "raw_sentences = bk1 + bk2\n",
    "sentences = []\n",
    "max_words = 20\n",
    "for sentence in raw_sentences:\n",
    "    chunks = chunk_sentence(sentence, max_words=max_words)\n",
    "    for c in chunks:\n",
    "        if len(c) > 2:\n",
    "            sentences.append(c)"
   ]
  },
  {
   "cell_type": "code",
   "execution_count": 62,
   "id": "184e4ea6-8b62-461a-8cbc-39729098967b",
   "metadata": {},
   "outputs": [
    {
     "data": {
      "text/plain": [
       "['PART ONE Chapter 1 Happy families are all alike; every unhappy family is unhappy in its own way',\n",
       " 'Everything was in confusion in the Oblonskys’ house']"
      ]
     },
     "execution_count": 62,
     "metadata": {},
     "output_type": "execute_result"
    }
   ],
   "source": [
    "sentences[:2]"
   ]
  },
  {
   "cell_type": "code",
   "execution_count": 63,
   "id": "b5fe20e8-2e63-4664-9ee7-04013233bc27",
   "metadata": {},
   "outputs": [
    {
     "data": {
      "text/plain": [
       "13364"
      ]
     },
     "execution_count": 63,
     "metadata": {},
     "output_type": "execute_result"
    }
   ],
   "source": [
    "len(sentences)"
   ]
  },
  {
   "cell_type": "code",
   "execution_count": 64,
   "id": "16ee210e-514a-4668-b989-157a312f1e35",
   "metadata": {},
   "outputs": [
    {
     "name": "stderr",
     "output_type": "stream",
     "text": [
      "[nltk_data] Downloading package punkt to\n",
      "[nltk_data]     C:\\Users\\ACER\\AppData\\Roaming\\nltk_data...\n",
      "[nltk_data]   Package punkt is already up-to-date!\n"
     ]
    }
   ],
   "source": [
    "def clean_text(text):\n",
    "    text = text.lower()\n",
    "    # Add spaces around punctuation\n",
    "    text = re.sub(r'([^\\w\\s])', r' \\1 ', text)\n",
    "    # Remove punctuation\n",
    "    text = re.sub(r'[^\\w\\s]', ' ', text)\n",
    "    # Normalize spaces\n",
    "    text = re.sub(r'\\s+', ' ', text)\n",
    "    return text.strip()"
   ]
  },
  {
   "cell_type": "code",
   "execution_count": 65,
   "id": "09996266-1a29-4486-a1e9-cf2b705b775e",
   "metadata": {},
   "outputs": [
    {
     "data": {
      "text/plain": [
       "13364"
      ]
     },
     "execution_count": 65,
     "metadata": {},
     "output_type": "execute_result"
    }
   ],
   "source": [
    "sentences = [clean_text(txt) for txt in sentences]\n",
    "len(sentences)"
   ]
  },
  {
   "cell_type": "code",
   "execution_count": 66,
   "id": "a221ad99-b4c7-4c8d-937b-484646efd173",
   "metadata": {},
   "outputs": [
    {
     "data": {
      "text/plain": [
       "['everything was in confusion in the oblonskys house',\n",
       " 'the wife had discovered that the husband was carrying on an intrigue with a french girl who had been a']"
      ]
     },
     "execution_count": 66,
     "metadata": {},
     "output_type": "execute_result"
    }
   ],
   "source": [
    "sentences[1:3]"
   ]
  },
  {
   "cell_type": "code",
   "execution_count": 67,
   "id": "d446a75a-c8fd-4d5e-ba0c-a98029192cc6",
   "metadata": {},
   "outputs": [
    {
     "data": {
      "text/plain": [
       "['part', 'one', 'chapter']"
      ]
     },
     "execution_count": 67,
     "metadata": {},
     "output_type": "execute_result"
    }
   ],
   "source": [
    "all_word_list = [txt for txt in (\"\".join(sentences)).split(' ')]\n",
    "all_word_list[:3]"
   ]
  },
  {
   "cell_type": "code",
   "execution_count": 68,
   "id": "a2ca5d50-2e7a-4936-8761-1c4562677003",
   "metadata": {},
   "outputs": [],
   "source": [
    "w_to_i = {word:i+2 for i, word in enumerate(set(all_word_list))}\n",
    "w_to_i['<UNK>'] = 1\n",
    "i_to_w = {v:k for k, v in w_to_i.items()}\n",
    "with open('vocab.json', 'w') as fp:\n",
    "    json.dump(w_to_i, fp)"
   ]
  },
  {
   "cell_type": "code",
   "execution_count": 69,
   "id": "a2826a64-2ee3-4347-8e86-f4d39febfb6f",
   "metadata": {},
   "outputs": [
    {
     "data": {
      "text/plain": [
       "20668"
      ]
     },
     "execution_count": 69,
     "metadata": {},
     "output_type": "execute_result"
    }
   ],
   "source": [
    "vocab_size = len(set(w_to_i.values())) +1 #+1 for padding \"0\"\n",
    "vocab_size"
   ]
  },
  {
   "cell_type": "code",
   "execution_count": 70,
   "id": "8df1ff37-58d9-4b96-b5e7-91658ac80aba",
   "metadata": {},
   "outputs": [],
   "source": [
    "def sentence_to_int(sentence):\n",
    "    sentence_to_int = []\n",
    "    for word in sentence.split(\" \"):\n",
    "        int_word = w_to_i.get(word, 0)\n",
    "        sentence_to_int.append(int_word)\n",
    "    return sentence_to_int"
   ]
  },
  {
   "cell_type": "code",
   "execution_count": 15,
   "id": "3354e2ce-2240-4228-90d9-d26b7a4f7b45",
   "metadata": {},
   "outputs": [
    {
     "data": {
      "text/plain": [
       "[6969, 15543, 21121, 5419, 21121, 483, 15751, 14443]"
      ]
     },
     "execution_count": 15,
     "metadata": {},
     "output_type": "execute_result"
    }
   ],
   "source": [
    "sentence_to_int('everything was in confusion in the oblonskys house')"
   ]
  },
  {
   "cell_type": "code",
   "execution_count": 16,
   "id": "b4663245-9f27-4273-a3ef-4b5ea2194885",
   "metadata": {},
   "outputs": [
    {
     "data": {
      "text/plain": [
       "[6969, 15543, 21121, 5419, 21121, 483, 15751, 14443]"
      ]
     },
     "execution_count": 16,
     "metadata": {},
     "output_type": "execute_result"
    }
   ],
   "source": [
    "int_sentences = [sentence_to_int(sentence) for sentence in sentences]\n",
    "int_sentences[1]"
   ]
  },
  {
   "cell_type": "code",
   "execution_count": 17,
   "id": "8a32bb83-1e2e-4d05-b24c-b32bf2e2d0c8",
   "metadata": {},
   "outputs": [
    {
     "data": {
      "text/plain": [
       "13364"
      ]
     },
     "execution_count": 17,
     "metadata": {},
     "output_type": "execute_result"
    }
   ],
   "source": [
    "len(int_sentences)"
   ]
  },
  {
   "cell_type": "code",
   "execution_count": 18,
   "id": "da2eb24b-cbf6-407b-906c-4dd1fc900fac",
   "metadata": {},
   "outputs": [
    {
     "data": {
      "text/plain": [
       "20"
      ]
     },
     "execution_count": 18,
     "metadata": {},
     "output_type": "execute_result"
    }
   ],
   "source": [
    "max(len(x) for x in int_sentences)"
   ]
  },
  {
   "cell_type": "code",
   "execution_count": 19,
   "id": "22c3e0b2-8a74-4454-80ee-9d543d760acd",
   "metadata": {},
   "outputs": [],
   "source": [
    "input_sq = []\n",
    "output_sq = []\n",
    "for sentence in int_sentences:\n",
    "    for i in range(1, len(sentence)):\n",
    "        temp = sentence[:i]\n",
    "        pad = (0, max_words - len(temp))\n",
    "        if temp != None:\n",
    "            try:\n",
    "                padded = F.pad(torch.tensor(temp), pad, value= 0)\n",
    "            except Exception as e:\n",
    "                print(e)\n",
    "                print(sentence)\n",
    "                print(temp)\n",
    "                break\n",
    "        \n",
    "            input_sq.append(padded)\n",
    "            output_sq.append(sentence[i])"
   ]
  },
  {
   "cell_type": "code",
   "execution_count": 27,
   "id": "ade2c561-68cb-45cc-bc9d-69672e2d365b",
   "metadata": {},
   "outputs": [
    {
     "data": {
      "text/plain": [
       "169326"
      ]
     },
     "execution_count": 27,
     "metadata": {},
     "output_type": "execute_result"
    }
   ],
   "source": [
    "len(input_sq)"
   ]
  },
  {
   "cell_type": "code",
   "execution_count": 28,
   "id": "58dea985-f452-4bc3-9db4-4c2f45600e52",
   "metadata": {},
   "outputs": [
    {
     "data": {
      "text/plain": [
       "169326"
      ]
     },
     "execution_count": 28,
     "metadata": {},
     "output_type": "execute_result"
    }
   ],
   "source": [
    "len(output_sq)"
   ]
  },
  {
   "cell_type": "code",
   "execution_count": 6,
   "id": "ff6bec55-12f2-40c9-a11a-b8f2ed464069",
   "metadata": {},
   "outputs": [],
   "source": [
    "class mydata(Dataset):\n",
    "    def __init__(self, x, y):\n",
    "        super().__init__()\n",
    "        self.x = x\n",
    "        self.y = y \n",
    "    def __len__(self):\n",
    "        return len(self.y)\n",
    "\n",
    "    def __getitem__(self, idx):\n",
    "        return self.x[idx], self.y[idx]"
   ]
  },
  {
   "cell_type": "code",
   "execution_count": null,
   "id": "7276f6db-9780-4ec7-b26e-a825417ced98",
   "metadata": {},
   "outputs": [],
   "source": [
    "torch.manual_seed(10)\n",
    "data = mydata(input_sq, torch.tensor(output_sq))\n",
    "batched_data= DataLoader(data, 128, shuffle=True)"
   ]
  },
  {
   "cell_type": "code",
   "execution_count": null,
   "id": "dac25db9-927d-4c1b-b613-ab1dfd6bcae4",
   "metadata": {},
   "outputs": [],
   "source": [
    "class Model(nn.Module):\n",
    "    def __init__(self):\n",
    "        super().__init__()\n",
    "        self.emb = nn.Embedding(vocab_size, embedding_dim=100, padding_idx = 0)\n",
    "        self.do = nn.Dropout(.3)\n",
    "        self.lstm = nn.LSTM(input_size = 100, hidden_size=150, num_layers=2)\n",
    "        self.layers = nn.Sequential(\n",
    "            nn.Linear(in_features=150, out_features=200),\n",
    "            nn.Dropout(.2),\n",
    "            nn.ReLU(),\n",
    "            nn.Linear(in_features=200, out_features=vocab_size)\n",
    "        )\n",
    "    def forward(self, x):\n",
    "        x = self.emb(x)\n",
    "        y = self.do(x)\n",
    "        h, c = self.lstm(x)\n",
    "        y = h[:, -1, :]\n",
    "        y = self.layers(y)\n",
    "\n",
    "        return y"
   ]
  },
  {
   "cell_type": "code",
   "execution_count": null,
   "id": "6916c0c6-0734-4058-935e-70dd2d4fc0b3",
   "metadata": {},
   "outputs": [],
   "source": [
    "def train(model, epochs, optim, loss_fn):\n",
    "    model.train()\n",
    "    best_loss = float('inf')\n",
    "    epochs_loss = []\n",
    "    for epoch in range(epochs):\n",
    "        loss_ = []\n",
    "        for batch in batched_data:\n",
    "            x, y = batch\n",
    "            x, y  = (x).to(device), (y).to(device) \n",
    "            y_pred = model(x)\n",
    "\n",
    "            loss = loss_fn(y_pred, y)\n",
    "            loss.backward()\n",
    "            optim.step()\n",
    "            optim.zero_grad()\n",
    "\n",
    "            loss_.append(loss.item())\n",
    "            \n",
    "        epoch_loss = np.mean(loss_)\n",
    "        epochs_loss.append(epoch_loss)\n",
    "        print(f\"Epochs: {epoch} | Loss: {epoch_loss:.4f}\")\n",
    "\n",
    "        if best_loss > epoch_loss:\n",
    "            best_loss = epoch_loss\n",
    "            torch.save(model.state_dict(), \"best_model.pt\")\n",
    "            print(f\"model saved with loss: {best_loss:.4f}\")\n",
    "            \n",
    "    return epochs_loss"
   ]
  },
  {
   "cell_type": "code",
   "execution_count": null,
   "id": "c8d013dc-0302-4696-9810-1a9ff1458b6d",
   "metadata": {},
   "outputs": [],
   "source": [
    "device = torch.device('cuda' if torch.cuda.is_available() else 'cpu')\n",
    "model = (Model()).to(device)\n",
    "optim = Adam(model.parameters(), lr = 0.001)\n",
    "loss_fn = nn.CrossEntropyLoss(ignore_index=0) #ignoring padding\n",
    "loss = train(model, 50, optim, loss_fn) "
   ]
  },
  {
   "cell_type": "code",
   "execution_count": null,
   "id": "7326ecd7-7464-49db-b6ec-3eb875b36390",
   "metadata": {},
   "outputs": [],
   "source": [
    "plt.plot(loss, [i for i in range(len(loss))])\n",
    "plt.title(\"loss Vs epoch\")\n",
    "plt.xlabel(\"Loss\")\n",
    "plt.ylabel(\"Epoch\")\n",
    "plt.show()"
   ]
  }
 ],
 "metadata": {
  "kernelspec": {
   "display_name": "Python 3 (ipykernel)",
   "language": "python",
   "name": "python3"
  },
  "language_info": {
   "codemirror_mode": {
    "name": "ipython",
    "version": 3
   },
   "file_extension": ".py",
   "mimetype": "text/x-python",
   "name": "python",
   "nbconvert_exporter": "python",
   "pygments_lexer": "ipython3",
   "version": "3.9.13"
  }
 },
 "nbformat": 4,
 "nbformat_minor": 5
}
